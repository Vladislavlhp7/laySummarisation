{
 "cells": [
  {
   "attachments": {},
   "cell_type": "markdown",
   "metadata": {},
   "source": [
    "# Dataset\n",
    "\n",
    "eLife and PLOS as introduced by Goldsack et al in [Making Science Simple: Corpora for the Lay Summarisation of Scientific Literature](https://aclanthology.org/2022.emnlp-main.724/)"
   ]
  },
  {
   "cell_type": "code",
   "execution_count": 55,
   "metadata": {},
   "outputs": [],
   "source": [
    "import pandas as pd\n",
    "from transformers import AutoTokenizer\n",
    "import numpy as np\n",
    "import matplotlib.pyplot as plt"
   ]
  },
  {
   "attachments": {},
   "cell_type": "markdown",
   "metadata": {},
   "source": [
    "## Dataset selection\n",
    "Uncomment either path to analyse the dataset."
   ]
  },
  {
   "cell_type": "code",
   "execution_count": 7,
   "metadata": {},
   "outputs": [],
   "source": [
    "path = \"../data/task1_development/train/eLife_train.jsonl\" # eLife\n",
    "#path = \"../data/task1_development/train/PLOS_train.jsonl\" # PLOS"
   ]
  },
  {
   "attachments": {},
   "cell_type": "markdown",
   "metadata": {},
   "source": [
    "## Dataset statisticts and visualisaition"
   ]
  },
  {
   "cell_type": "code",
   "execution_count": 8,
   "metadata": {},
   "outputs": [],
   "source": [
    "df = pd.read_json(path, lines=True)"
   ]
  },
  {
   "cell_type": "code",
   "execution_count": 9,
   "metadata": {},
   "outputs": [
    {
     "data": {
      "text/html": [
       "<div>\n",
       "<style scoped>\n",
       "    .dataframe tbody tr th:only-of-type {\n",
       "        vertical-align: middle;\n",
       "    }\n",
       "\n",
       "    .dataframe tbody tr th {\n",
       "        vertical-align: top;\n",
       "    }\n",
       "\n",
       "    .dataframe thead th {\n",
       "        text-align: right;\n",
       "    }\n",
       "</style>\n",
       "<table border=\"1\" class=\"dataframe\">\n",
       "  <thead>\n",
       "    <tr style=\"text-align: right;\">\n",
       "      <th></th>\n",
       "      <th>lay_summary</th>\n",
       "      <th>article</th>\n",
       "      <th>headings</th>\n",
       "      <th>keywords</th>\n",
       "      <th>id</th>\n",
       "    </tr>\n",
       "  </thead>\n",
       "  <tbody>\n",
       "    <tr>\n",
       "      <th>0</th>\n",
       "      <td>In the USA , more deaths happen in the winter ...</td>\n",
       "      <td>In temperate climates , winter deaths exceed s...</td>\n",
       "      <td>[Abstract, Introduction, Results, Discussion, ...</td>\n",
       "      <td>[epidemiology and global health]</td>\n",
       "      <td>elife-35500-v1</td>\n",
       "    </tr>\n",
       "    <tr>\n",
       "      <th>1</th>\n",
       "      <td>Most people have likely experienced the discom...</td>\n",
       "      <td>Whether complement dysregulation directly cont...</td>\n",
       "      <td>[Abstract, Introduction, Results, Discussion, ...</td>\n",
       "      <td>[microbiology and infectious disease, immunolo...</td>\n",
       "      <td>elife-48378-v2</td>\n",
       "    </tr>\n",
       "    <tr>\n",
       "      <th>2</th>\n",
       "      <td>The immune system protects an individual from ...</td>\n",
       "      <td>Variation in the presentation of hereditary im...</td>\n",
       "      <td>[Abstract, Introduction, Results, Discussion, ...</td>\n",
       "      <td>[microbiology and infectious disease, immunolo...</td>\n",
       "      <td>elife-04494-v1</td>\n",
       "    </tr>\n",
       "    <tr>\n",
       "      <th>3</th>\n",
       "      <td>The brain adapts to control our behavior in di...</td>\n",
       "      <td>Rapid and flexible interpretation of conflicti...</td>\n",
       "      <td>[Abstract, Introduction, Results, Discussion, ...</td>\n",
       "      <td>[neuroscience]</td>\n",
       "      <td>elife-12352-v2</td>\n",
       "    </tr>\n",
       "    <tr>\n",
       "      <th>4</th>\n",
       "      <td>Cells use motor proteins that to move organell...</td>\n",
       "      <td>Myosin 5a is a dual-headed molecular motor tha...</td>\n",
       "      <td>[Abstract, Introduction, Results, Discussion, ...</td>\n",
       "      <td>[structural biology and molecular biophysics]</td>\n",
       "      <td>elife-05413-v2</td>\n",
       "    </tr>\n",
       "  </tbody>\n",
       "</table>\n",
       "</div>"
      ],
      "text/plain": [
       "                                         lay_summary  \\\n",
       "0  In the USA , more deaths happen in the winter ...   \n",
       "1  Most people have likely experienced the discom...   \n",
       "2  The immune system protects an individual from ...   \n",
       "3  The brain adapts to control our behavior in di...   \n",
       "4  Cells use motor proteins that to move organell...   \n",
       "\n",
       "                                             article  \\\n",
       "0  In temperate climates , winter deaths exceed s...   \n",
       "1  Whether complement dysregulation directly cont...   \n",
       "2  Variation in the presentation of hereditary im...   \n",
       "3  Rapid and flexible interpretation of conflicti...   \n",
       "4  Myosin 5a is a dual-headed molecular motor tha...   \n",
       "\n",
       "                                            headings  \\\n",
       "0  [Abstract, Introduction, Results, Discussion, ...   \n",
       "1  [Abstract, Introduction, Results, Discussion, ...   \n",
       "2  [Abstract, Introduction, Results, Discussion, ...   \n",
       "3  [Abstract, Introduction, Results, Discussion, ...   \n",
       "4  [Abstract, Introduction, Results, Discussion, ...   \n",
       "\n",
       "                                            keywords              id  \n",
       "0                   [epidemiology and global health]  elife-35500-v1  \n",
       "1  [microbiology and infectious disease, immunolo...  elife-48378-v2  \n",
       "2  [microbiology and infectious disease, immunolo...  elife-04494-v1  \n",
       "3                                     [neuroscience]  elife-12352-v2  \n",
       "4      [structural biology and molecular biophysics]  elife-05413-v2  "
      ]
     },
     "execution_count": 9,
     "metadata": {},
     "output_type": "execute_result"
    }
   ],
   "source": [
    "df.head()"
   ]
  },
  {
   "attachments": {},
   "cell_type": "markdown",
   "metadata": {},
   "source": [
    "### Categories"
   ]
  },
  {
   "cell_type": "code",
   "execution_count": 10,
   "metadata": {},
   "outputs": [
    {
     "data": {
      "text/plain": [
       "neuroscience                                   1240\n",
       "cell biology                                    922\n",
       "developmental biology                           553\n",
       "biochemistry and chemical biology               505\n",
       "structural biology and molecular biophysics     480\n",
       "microbiology and infectious disease             420\n",
       "chromosomes and gene expression                 353\n",
       "computational and systems biology               298\n",
       "genetics and genomics                           261\n",
       "evolutionary biology                            253\n",
       "immunology and inflammation                     243\n",
       "short report                                    227\n",
       "cancer biology                                  207\n",
       "tools and resources                             205\n",
       "plant biology                                   158\n",
       "ecology                                         154\n",
       "stem cells and regenerative medicine            131\n",
       "epidemiology and global health                  104\n",
       "medicine                                         96\n",
       "physics of living systems                        87\n",
       "research communication                           14\n",
       "Name: keywords, dtype: int64"
      ]
     },
     "execution_count": 10,
     "metadata": {},
     "output_type": "execute_result"
    }
   ],
   "source": [
    "df.keywords.explode().value_counts()"
   ]
  },
  {
   "attachments": {},
   "cell_type": "markdown",
   "metadata": {},
   "source": [
    "### Token lengths\n",
    "\n",
    "Article token lengths"
   ]
  },
  {
   "cell_type": "code",
   "execution_count": 34,
   "metadata": {},
   "outputs": [],
   "source": [
    "tokenizer = AutoTokenizer.from_pretrained(\"microsoft/biogpt\")"
   ]
  },
  {
   "cell_type": "code",
   "execution_count": 58,
   "metadata": {},
   "outputs": [],
   "source": [
    "def token_lengths(texts):\n",
    "    tokens = tokenizer(texts)\n",
    "    return list(map(lambda x: len(x), tokens['input_ids']))"
   ]
  },
  {
   "cell_type": "code",
   "execution_count": 61,
   "metadata": {},
   "outputs": [],
   "source": [
    "art_lens = token_lengths(df.sample(n = 100).article.to_list())"
   ]
  },
  {
   "cell_type": "code",
   "execution_count": 63,
   "metadata": {},
   "outputs": [
    {
     "data": {
      "text/plain": [
       "'Sample average token length of articles for BioGPT tokenizer: 13234.5'"
      ]
     },
     "execution_count": 63,
     "metadata": {},
     "output_type": "execute_result"
    }
   ],
   "source": [
    "f\"Sample average token length of articles for BioGPT tokenizer: {np.average(art_lens)}\""
   ]
  },
  {
   "cell_type": "code",
   "execution_count": 59,
   "metadata": {},
   "outputs": [
    {
     "data": {
      "text/plain": [
       "(array([ 5., 17., 28., 22., 10., 11.,  5.,  0.,  0.,  2.]),\n",
       " array([ 2792. ,  5595.1,  8398.2, 11201.3, 14004.4, 16807.5, 19610.6,\n",
       "        22413.7, 25216.8, 28019.9, 30823. ]),\n",
       " <BarContainer object of 10 artists>)"
      ]
     },
     "execution_count": 59,
     "metadata": {},
     "output_type": "execute_result"
    },
    {
     "data": {
      "image/png": "[encoded data removed]",
      "text/plain": [
       "<Figure size 640x480 with 1 Axes>"
      ]
     },
     "metadata": {},
     "output_type": "display_data"
    }
   ],
   "source": [
    "plt.hist(art_lens)"
   ]
  },
  {
   "attachments": {},
   "cell_type": "markdown",
   "metadata": {},
   "source": [
    "Lay Summary token lengths"
   ]
  },
  {
   "cell_type": "code",
   "execution_count": 60,
   "metadata": {},
   "outputs": [
    {
     "data": {
      "text/plain": [
       "(array([ 2.,  3.,  5., 12., 13., 17., 20.,  7., 12.,  9.]),\n",
       " array([231. , 263.6, 296.2, 328.8, 361.4, 394. , 426.6, 459.2, 491.8,\n",
       "        524.4, 557. ]),\n",
       " <BarContainer object of 10 artists>)"
      ]
     },
     "execution_count": 60,
     "metadata": {},
     "output_type": "execute_result"
    },
    {
     "data": {
      "image/png": "[encoded data removed]",
      "text/plain": [
       "<Figure size 640x480 with 1 Axes>"
      ]
     },
     "metadata": {},
     "output_type": "display_data"
    }
   ],
   "source": [
    "sum_lens = token_lengths(df.sample(n = 100).lay_summary.to_list())\n",
    "plt.hist(sum_lens)"
   ]
  },
  {
   "cell_type": "code",
   "execution_count": null,
   "metadata": {},
   "outputs": [],
   "source": []
  }
 ],
 "metadata": {
  "kernelspec": {
   "display_name": "laysum",
   "language": "python",
   "name": "python3"
  },
  "language_info": {
   "codemirror_mode": {
    "name": "ipython",
    "version": 3
   },
   "file_extension": ".py",
   "mimetype": "text/x-python",
   "name": "python",
   "nbconvert_exporter": "python",
   "pygments_lexer": "ipython3",
   "version": "3.11.2"
  },
  "orig_nbformat": 4
 },
 "nbformat": 4,
 "nbformat_minor": 2
}
